{
 "cells": [
  {
   "cell_type": "code",
   "execution_count": 1,
   "id": "00a9cf90",
   "metadata": {},
   "outputs": [],
   "source": [
    "import time \n",
    "import numpy as np\n",
    "import pandas as pd\n",
    "\n",
    "import PSO\n",
    "from scripts.pso import experiment_one_PSO, experiment"
   ]
  },
  {
   "cell_type": "code",
   "execution_count": null,
   "id": "84ba217b",
   "metadata": {},
   "outputs": [
    {
     "name": "stderr",
     "output_type": "stream",
     "text": [
      "Loading:   0%|          | 0/4 [00:00<?, ?it/s]"
     ]
    },
    {
     "name": "stdout",
     "output_type": "stream",
     "text": [
      "10\n"
     ]
    },
    {
     "name": "stderr",
     "output_type": "stream",
     "text": [
      "/home/andre-felipe/Documentos/UDESC/Fase9/IAR/IAR/PSO/utils/graphics.py:24: UserWarning: Attempt to set non-positive xlim on a log-scaled axis will be ignored.\n",
      "  ax.set(\n",
      "Loading:  50%|█████     | 2/4 [00:04<00:04,  2.04s/it]/home/andre-felipe/Documentos/UDESC/Fase9/IAR/IAR/PSO/utils/graphics.py:24: UserWarning: Attempt to set non-positive xlim on a log-scaled axis will be ignored.\n",
      "  ax.set(\n",
      "Loading: 100%|██████████| 4/4 [00:07<00:00,  1.98s/it]\n"
     ]
    }
   ],
   "source": [
    "problem: str = \"PSO-Griewank-D5\"\n",
    "\n",
    "df = experiment(\n",
    "    problem=problem,\n",
    "    num_iteration=10,\n",
    "    num_iteration_in_pso=50_000,\n",
    "    n = 30,\n",
    "    dim=5,\n",
    "    func_list=[PSO.Func.Griewank, PSO.Func.Ackley],\n",
    "    c=1.49445,\n",
    "    w=0.7,\n",
    "    k_list=[True, False],\n",
    "    show=False\n",
    ")\n"
   ]
  },
  {
   "cell_type": "code",
   "execution_count": 3,
   "id": "064bf722",
   "metadata": {},
   "outputs": [
    {
     "data": {
      "text/html": [
       "<div>\n",
       "<style scoped>\n",
       "    .dataframe tbody tr th:only-of-type {\n",
       "        vertical-align: middle;\n",
       "    }\n",
       "\n",
       "    .dataframe tbody tr th {\n",
       "        vertical-align: top;\n",
       "    }\n",
       "\n",
       "    .dataframe thead th {\n",
       "        text-align: right;\n",
       "    }\n",
       "</style>\n",
       "<table border=\"1\" class=\"dataframe\">\n",
       "  <thead>\n",
       "    <tr style=\"text-align: right;\">\n",
       "      <th></th>\n",
       "      <th>Problema</th>\n",
       "      <th>Melhor Solução</th>\n",
       "      <th>Média</th>\n",
       "      <th>Desvio Padrão</th>\n",
       "      <th>Tempo (s)</th>\n",
       "      <th>Imagem</th>\n",
       "    </tr>\n",
       "  </thead>\n",
       "  <tbody>\n",
       "    <tr>\n",
       "      <th>0</th>\n",
       "      <td>PSO-Griewank-D5</td>\n",
       "      <td>0.009857</td>\n",
       "      <td>0.024626</td>\n",
       "      <td>0.007388</td>\n",
       "      <td>1.861293</td>\n",
       "      <td>con-FGriewank-P30-DIM5-1747600132172686135.png</td>\n",
       "    </tr>\n",
       "    <tr>\n",
       "      <th>1</th>\n",
       "      <td>PSO-Griewank-D5</td>\n",
       "      <td>0.014772</td>\n",
       "      <td>0.048170</td>\n",
       "      <td>0.031027</td>\n",
       "      <td>1.733321</td>\n",
       "      <td>con-FGriewank-P30-DIM5-1747600134440891705.png</td>\n",
       "    </tr>\n",
       "  </tbody>\n",
       "</table>\n",
       "</div>"
      ],
      "text/plain": [
       "          Problema  Melhor Solução     Média  Desvio Padrão  Tempo (s)  \\\n",
       "0  PSO-Griewank-D5        0.009857  0.024626       0.007388   1.861293   \n",
       "1  PSO-Griewank-D5        0.014772  0.048170       0.031027   1.733321   \n",
       "\n",
       "                                           Imagem  \n",
       "0  con-FGriewank-P30-DIM5-1747600132172686135.png  \n",
       "1  con-FGriewank-P30-DIM5-1747600134440891705.png  "
      ]
     },
     "execution_count": 3,
     "metadata": {},
     "output_type": "execute_result"
    }
   ],
   "source": [
    "df"
   ]
  }
 ],
 "metadata": {
  "kernelspec": {
   "display_name": ".venv",
   "language": "python",
   "name": "python3"
  },
  "language_info": {
   "codemirror_mode": {
    "name": "ipython",
    "version": 3
   },
   "file_extension": ".py",
   "mimetype": "text/x-python",
   "name": "python",
   "nbconvert_exporter": "python",
   "pygments_lexer": "ipython3",
   "version": "3.12.3"
  }
 },
 "nbformat": 4,
 "nbformat_minor": 5
}
