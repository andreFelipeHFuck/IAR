{
 "cells": [
  {
   "cell_type": "code",
   "execution_count": 1,
   "id": "512673da",
   "metadata": {},
   "outputs": [],
   "source": [
    "from utils.manipulationFile import read_txt_file\n",
    "from utils.calculations import Point\n",
    "\n",
    "from problems.TSP.MatrixTSP import MatrixTSP\n",
    "from problems.TSP.SolutionTSP import SolutionTSP"
   ]
  },
  {
   "cell_type": "code",
   "execution_count": 2,
   "id": "b56cbb2e",
   "metadata": {},
   "outputs": [
    {
     "name": "stdout",
     "output_type": "stream",
     "text": [
      "num_elements: 51\n",
      "distance: 0\n",
      "elements: [10, 7, 11, 16, 1, 30, 27, 19, 50, 5, 17, 39, 22, 47, 48, 4, 29, 0, 25, 35, 36, 21, 20, 26, 46, 28, 18, 23, 31, 9, 41, 38, 6, 49, 13, 37, 42, 33, 8, 45, 15, 3, 12, 32, 40, 34, 14, 24, 2, 43, 44]\n",
      "\n"
     ]
    }
   ],
   "source": [
    "points: [Point] = read_txt_file(\"samples/eil51.txt\")\n",
    "matrix: MatrixTSP = MatrixTSP(points)\n",
    "num_elements: int = len(points)\n",
    "\n",
    "solution: SolutionTSP = SolutionTSP(num_elements)\n",
    "solution.generate_random_elements()\n",
    "print(solution)"
   ]
  },
  {
   "cell_type": "code",
   "execution_count": 3,
   "id": "92ccd8aa",
   "metadata": {},
   "outputs": [
    {
     "name": "stdout",
     "output_type": "stream",
     "text": [
      "num_elements: 51\n",
      "distance: 0\n",
      "elements: [10, 11, 7, 16, 1, 30, 27, 19, 50, 5, 17, 22, 39, 47, 48, 4, 29, 0, 25, 35, 36, 21, 20, 26, 46, 28, 18, 23, 31, 9, 41, 38, 6, 49, 13, 37, 42, 33, 8, 45, 15, 3, 12, 32, 40, 34, 24, 14, 2, 43, 44]\n",
      "\n"
     ]
    }
   ],
   "source": [
    "neighbor: SolutionTSP = solution.generate_neighbor()\n",
    "print(neighbor)"
   ]
  },
  {
   "cell_type": "code",
   "execution_count": 4,
   "id": "5dd006d1",
   "metadata": {},
   "outputs": [
    {
     "data": {
      "text/plain": [
       "1630.1195176353651"
      ]
     },
     "execution_count": 4,
     "metadata": {},
     "output_type": "execute_result"
    }
   ],
   "source": [
    "matrix.calcule_distance(solution)\n",
    "solution.get_distance()"
   ]
  },
  {
   "cell_type": "code",
   "execution_count": 5,
   "id": "763bdec6",
   "metadata": {},
   "outputs": [
    {
     "data": {
      "text/plain": [
       "63.369376495104916"
      ]
     },
     "execution_count": 5,
     "metadata": {},
     "output_type": "execute_result"
    }
   ],
   "source": [
    "matrix.calcule_delta_between_neighbors(solution, neighbor)\n"
   ]
  },
  {
   "cell_type": "code",
   "execution_count": 6,
   "id": "2842a158",
   "metadata": {},
   "outputs": [
    {
     "data": {
      "text/plain": [
       "1693.48889413047"
      ]
     },
     "execution_count": 6,
     "metadata": {},
     "output_type": "execute_result"
    }
   ],
   "source": [
    "neighbor.get_distance()"
   ]
  },
  {
   "cell_type": "code",
   "execution_count": 7,
   "id": "42e9de94",
   "metadata": {},
   "outputs": [
    {
     "data": {
      "text/plain": [
       "False"
      ]
     },
     "execution_count": 7,
     "metadata": {},
     "output_type": "execute_result"
    }
   ],
   "source": [
    "solution.get_distance() > neighbor.get_distance() "
   ]
  },
  {
   "cell_type": "code",
   "execution_count": null,
   "id": "0e83febd",
   "metadata": {},
   "outputs": [],
   "source": []
  }
 ],
 "metadata": {
  "kernelspec": {
   "display_name": ".venv",
   "language": "python",
   "name": "python3"
  },
  "language_info": {
   "codemirror_mode": {
    "name": "ipython",
    "version": 3
   },
   "file_extension": ".py",
   "mimetype": "text/x-python",
   "name": "python",
   "nbconvert_exporter": "python",
   "pygments_lexer": "ipython3",
   "version": "3.12.3"
  }
 },
 "nbformat": 4,
 "nbformat_minor": 5
}
