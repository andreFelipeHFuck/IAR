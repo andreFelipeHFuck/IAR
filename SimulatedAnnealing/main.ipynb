{
 "cells": [
  {
   "cell_type": "code",
   "execution_count": 1,
   "id": "512673da",
   "metadata": {},
   "outputs": [],
   "source": [
    "import time\n",
    "import numpy as np\n",
    "import pandas as pd\n",
    "\n",
    "from SA.simulatedAnnealing import simulatedAnnealing\n",
    "from problems.TSP.SimulatedAnnelingOperationsTSP import SimulatedAnnelingOperationsTSP as TSP\n",
    "\n",
    "from utils.calculations import Point\n",
    "from utils.manipulationFile import read_txt_file\n",
    "import utils.cooling as alpha\n",
    "from utils.graphics import create_plot, create_box_plots\n",
    "\n",
    "from scripts.tsp import experiment, experiment_one_SA\n",
    "\n"
   ]
  },
  {
   "cell_type": "code",
   "execution_count": 2,
   "id": "2c01e668",
   "metadata": {},
   "outputs": [],
   "source": [
    "PATH: str = \"samples/eil100.txt\"\n",
    "problem: str = \"TSP100\""
   ]
  },
  {
   "cell_type": "markdown",
   "id": "da18cf20",
   "metadata": {},
   "source": [
    "## Teste para o Grafo com 51 cidades\n",
    "\n",
    "+ N = 100_000\n",
    "+ Número de Cidades Criada por criação de vizinho: 1, 3, 5\n",
    "+ Equações Testadas: 5, 8, 9\n",
    "+ TN = 0.01\n",
    "+ SA_Max: 1, 5, 10"
   ]
  },
  {
   "cell_type": "code",
   "execution_count": 3,
   "id": "faf924d5",
   "metadata": {},
   "outputs": [],
   "source": [
    "# df = experiment(\n",
    "#     problem=problem,\n",
    "#     path=PATH,\n",
    "#     num_interation=10,\n",
    "#     num_neighbors_mod_list=[1],\n",
    "#     num_neighbors=500,\n",
    "#     SA_max_list=[1, 5, 10],\n",
    "#     eq_list=[9],\n",
    "#     TN=0.01,\n",
    "#     N=100_000,\n",
    "#     t=False\n",
    "# )\n"
   ]
  },
  {
   "cell_type": "markdown",
   "id": "bc403def",
   "metadata": {},
   "source": [
    "# Teste para o Grafico com 100 cidades\n",
    "\n",
    "+ N = 500_000\n",
    "+ Número de Cidades Criada por criação de vizinho: 1\n",
    "+ Equações Testadas: 1, 7, 9\n",
    "+ TN = 0.01\n",
    "+ SA_Max: 1, 5, 10"
   ]
  },
  {
   "cell_type": "code",
   "execution_count": null,
   "id": "ec664aad",
   "metadata": {},
   "outputs": [
    {
     "name": "stderr",
     "output_type": "stream",
     "text": [
      "Loading:   0%|          | 0/3 [00:00<?, ?it/s]"
     ]
    },
    {
     "name": "stdout",
     "output_type": "stream",
     "text": [
      "6381.393800335354\n"
     ]
    },
    {
     "name": "stderr",
     "output_type": "stream",
     "text": [
      "Loading:  33%|███▎      | 1/3 [07:40<15:21, 460.76s/it]"
     ]
    },
    {
     "name": "stdout",
     "output_type": "stream",
     "text": [
      "num_elements: 100\n",
      "distance: 27257.570471578278\n",
      "elements: [81, 94, 12, 75, 32, 51, 47, 99, 40, 70, 13, 28, 82, 19, 44, 14, 16, 10, 31, 90, 97, 60, 50, 86, 56, 8, 6, 33, 45, 2, 42, 54, 11, 26, 85, 34, 61, 59, 76, 22, 46, 62, 5, 0, 92, 27, 57, 67, 84, 38, 29, 95, 77, 4, 36, 49, 43, 1, 53, 39, 63, 72, 68, 80, 24, 66, 88, 30, 79, 41, 7, 91, 48, 83, 35, 98, 37, 23, 17, 78, 52, 87, 15, 93, 21, 69, 65, 25, 64, 3, 96, 55, 74, 18, 89, 9, 71, 20, 73, 58]\n",
      "\n",
      "7975.624759477156\n"
     ]
    },
    {
     "name": "stderr",
     "output_type": "stream",
     "text": [
      "Loading:  67%|██████▋   | 2/3 [48:56<27:26, 1646.15s/it]"
     ]
    },
    {
     "name": "stdout",
     "output_type": "stream",
     "text": [
      "num_elements: 100\n",
      "distance: 25040.048136421916\n",
      "elements: [99, 70, 40, 42, 2, 13, 47, 51, 4, 36, 32, 75, 12, 94, 81, 49, 67, 6, 54, 82, 33, 45, 28, 29, 77, 95, 38, 84, 72, 43, 1, 53, 39, 63, 68, 50, 86, 8, 56, 19, 11, 26, 85, 34, 61, 59, 76, 22, 97, 92, 27, 57, 60, 24, 80, 66, 88, 30, 79, 55, 96, 3, 64, 25, 65, 69, 21, 93, 15, 87, 52, 18, 74, 41, 7, 91, 89, 78, 17, 23, 37, 98, 35, 58, 73, 20, 71, 83, 9, 48, 5, 62, 0, 46, 90, 44, 31, 10, 14, 16]\n",
      "\n",
      "6817.664137629443\n"
     ]
    }
   ],
   "source": [
    "df = experiment(\n",
    "    problem=problem,\n",
    "    path=PATH,\n",
    "    num_interation=10,\n",
    "    num_neighbors_mod_list=[1],\n",
    "    num_neighbors=500,\n",
    "    SA_max_list=[1, 5, 10],\n",
    "    eq_list=[1],\n",
    "    TN=0.01,\n",
    "    N=500_000,\n",
    "    t=False\n",
    ")\n"
   ]
  },
  {
   "cell_type": "code",
   "execution_count": null,
   "id": "9754c920",
   "metadata": {},
   "outputs": [
    {
     "data": {
      "text/html": [
       "<div>\n",
       "<style scoped>\n",
       "    .dataframe tbody tr th:only-of-type {\n",
       "        vertical-align: middle;\n",
       "    }\n",
       "\n",
       "    .dataframe tbody tr th {\n",
       "        vertical-align: top;\n",
       "    }\n",
       "\n",
       "    .dataframe thead th {\n",
       "        text-align: right;\n",
       "    }\n",
       "</style>\n",
       "<table border=\"1\" class=\"dataframe\">\n",
       "  <thead>\n",
       "    <tr style=\"text-align: right;\">\n",
       "      <th></th>\n",
       "      <th>Problema</th>\n",
       "      <th>SA_max</th>\n",
       "      <th>Equação</th>\n",
       "      <th>Número de Vizinhos</th>\n",
       "      <th>Número de Interações</th>\n",
       "      <th>Temperatura Inicial</th>\n",
       "      <th>Melhor Solução</th>\n",
       "      <th>Média</th>\n",
       "      <th>Desvio Padrão</th>\n",
       "      <th>Tempo (s)</th>\n",
       "      <th>Imagem</th>\n",
       "    </tr>\n",
       "  </thead>\n",
       "  <tbody>\n",
       "    <tr>\n",
       "      <th>0</th>\n",
       "      <td>TSP51</td>\n",
       "      <td>1</td>\n",
       "      <td>9</td>\n",
       "      <td>1</td>\n",
       "      <td>100000</td>\n",
       "      <td>147.215680</td>\n",
       "      <td>451.957835</td>\n",
       "      <td>484.663520</td>\n",
       "      <td>20.492562</td>\n",
       "      <td>40.982913</td>\n",
       "      <td>con-PTSP51-SA1-EQ9-N100000-1745658700228100207...</td>\n",
       "    </tr>\n",
       "    <tr>\n",
       "      <th>1</th>\n",
       "      <td>TSP51</td>\n",
       "      <td>5</td>\n",
       "      <td>9</td>\n",
       "      <td>1</td>\n",
       "      <td>100000</td>\n",
       "      <td>184.512132</td>\n",
       "      <td>440.089458</td>\n",
       "      <td>452.271723</td>\n",
       "      <td>11.298984</td>\n",
       "      <td>202.209270</td>\n",
       "      <td>con-PTSP51-SA5-EQ9-N100000-1745658902367508035...</td>\n",
       "    </tr>\n",
       "    <tr>\n",
       "      <th>2</th>\n",
       "      <td>TSP51</td>\n",
       "      <td>10</td>\n",
       "      <td>9</td>\n",
       "      <td>1</td>\n",
       "      <td>100000</td>\n",
       "      <td>91.549277</td>\n",
       "      <td>432.959899</td>\n",
       "      <td>444.881006</td>\n",
       "      <td>7.204971</td>\n",
       "      <td>404.865211</td>\n",
       "      <td>con-PTSP51-SA10-EQ9-N100000-174565930725328652...</td>\n",
       "    </tr>\n",
       "  </tbody>\n",
       "</table>\n",
       "</div>"
      ],
      "text/plain": [
       "  Problema  SA_max  Equação  Número de Vizinhos  Número de Interações  \\\n",
       "0    TSP51       1        9                   1                100000   \n",
       "1    TSP51       5        9                   1                100000   \n",
       "2    TSP51      10        9                   1                100000   \n",
       "\n",
       "   Temperatura Inicial  Melhor Solução       Média  Desvio Padrão   Tempo (s)  \\\n",
       "0           147.215680      451.957835  484.663520      20.492562   40.982913   \n",
       "1           184.512132      440.089458  452.271723      11.298984  202.209270   \n",
       "2            91.549277      432.959899  444.881006       7.204971  404.865211   \n",
       "\n",
       "                                              Imagem  \n",
       "0  con-PTSP51-SA1-EQ9-N100000-1745658700228100207...  \n",
       "1  con-PTSP51-SA5-EQ9-N100000-1745658902367508035...  \n",
       "2  con-PTSP51-SA10-EQ9-N100000-174565930725328652...  "
      ]
     },
     "execution_count": 4,
     "metadata": {},
     "output_type": "execute_result"
    }
   ],
   "source": [
    "df "
   ]
  },
  {
   "cell_type": "code",
   "execution_count": null,
   "id": "e32ef4b8",
   "metadata": {},
   "outputs": [],
   "source": []
  },
  {
   "cell_type": "code",
   "execution_count": null,
   "id": "7739a23a",
   "metadata": {},
   "outputs": [
    {
     "data": {
      "text/plain": [
       "2"
      ]
     },
     "execution_count": 6,
     "metadata": {},
     "output_type": "execute_result"
    }
   ],
   "source": [
    "id = df[\"Melhor Solução\"].idxmin()\n",
    "\n",
    "id"
   ]
  },
  {
   "cell_type": "code",
   "execution_count": null,
   "id": "8edc3cda",
   "metadata": {},
   "outputs": [
    {
     "data": {
      "text/html": [
       "<div>\n",
       "<style scoped>\n",
       "    .dataframe tbody tr th:only-of-type {\n",
       "        vertical-align: middle;\n",
       "    }\n",
       "\n",
       "    .dataframe tbody tr th {\n",
       "        vertical-align: top;\n",
       "    }\n",
       "\n",
       "    .dataframe thead th {\n",
       "        text-align: right;\n",
       "    }\n",
       "</style>\n",
       "<table border=\"1\" class=\"dataframe\">\n",
       "  <thead>\n",
       "    <tr style=\"text-align: right;\">\n",
       "      <th></th>\n",
       "      <th>SA_max</th>\n",
       "      <th>Equação</th>\n",
       "      <th>Número de Vizinhos</th>\n",
       "      <th>Melhor Solução</th>\n",
       "      <th>Média</th>\n",
       "      <th>Desvio Padrão</th>\n",
       "    </tr>\n",
       "  </thead>\n",
       "  <tbody>\n",
       "    <tr>\n",
       "      <th>0</th>\n",
       "      <td>1</td>\n",
       "      <td>9</td>\n",
       "      <td>1</td>\n",
       "      <td>451.957835</td>\n",
       "      <td>484.663520</td>\n",
       "      <td>20.492562</td>\n",
       "    </tr>\n",
       "    <tr>\n",
       "      <th>1</th>\n",
       "      <td>5</td>\n",
       "      <td>9</td>\n",
       "      <td>1</td>\n",
       "      <td>440.089458</td>\n",
       "      <td>452.271723</td>\n",
       "      <td>11.298984</td>\n",
       "    </tr>\n",
       "    <tr>\n",
       "      <th>2</th>\n",
       "      <td>10</td>\n",
       "      <td>9</td>\n",
       "      <td>1</td>\n",
       "      <td>432.959899</td>\n",
       "      <td>444.881006</td>\n",
       "      <td>7.204971</td>\n",
       "    </tr>\n",
       "  </tbody>\n",
       "</table>\n",
       "</div>"
      ],
      "text/plain": [
       "   SA_max  Equação  Número de Vizinhos  Melhor Solução       Média  \\\n",
       "0       1        9                   1      451.957835  484.663520   \n",
       "1       5        9                   1      440.089458  452.271723   \n",
       "2      10        9                   1      432.959899  444.881006   \n",
       "\n",
       "   Desvio Padrão  \n",
       "0      20.492562  \n",
       "1      11.298984  \n",
       "2       7.204971  "
      ]
     },
     "execution_count": 10,
     "metadata": {},
     "output_type": "execute_result"
    }
   ],
   "source": [
    "df_media = df[[\"SA_max\", \"Equação\", \"Número de Vizinhos\", \"Melhor Solução\", \"Média\", \"Desvio Padrão\" ]].sort_values([\"SA_max\"])\n",
    "df_media"
   ]
  },
  {
   "cell_type": "code",
   "execution_count": null,
   "id": "0a9777b3",
   "metadata": {},
   "outputs": [
    {
     "name": "stdout",
     "output_type": "stream",
     "text": [
      "8739.795704443415\n"
     ]
    },
    {
     "name": "stderr",
     "output_type": "stream",
     "text": [
      "Loading: 100%|██████████| 500000/500000 [08:45<00:00, 952.34it/s] \n"
     ]
    },
    {
     "data": {
      "image/png": "[encoded data removed]",
      "text/plain": [
       "<Figure size 640x480 with 2 Axes>"
      ]
     },
     "metadata": {},
     "output_type": "display_data"
    },
    {
     "name": "stdout",
     "output_type": "stream",
     "text": [
      "num_elements: 100\n",
      "distance: 23330.304046908404\n",
      "elements: [41, 88, 30, 79, 55, 96, 74, 18, 52, 78, 89, 48, 5, 62, 0, 91, 7, 66, 68, 80, 24, 60, 57, 27, 92, 46, 31, 44, 90, 97, 22, 59, 61, 34, 85, 26, 19, 11, 54, 82, 33, 28, 45, 42, 2, 13, 70, 40, 99, 47, 51, 77, 4, 36, 32, 75, 12, 94, 81, 43, 1, 53, 39, 63, 72, 49, 67, 84, 38, 95, 29, 8, 6, 56, 86, 50, 76, 10, 14, 16, 58, 73, 20, 71, 9, 83, 35, 98, 37, 23, 17, 93, 87, 15, 21, 69, 65, 3, 64, 25]\n",
      "\n"
     ]
    },
    {
     "data": {
      "text/plain": [
       "23330.304046908404"
      ]
     },
     "execution_count": 42,
     "metadata": {},
     "output_type": "execute_result"
    }
   ],
   "source": [
    "# res = experiment_one_SA(\n",
    "#     problem=\"TSP100\",\n",
    "#     path=\"samples/eil100.txt\",\n",
    "#     num_interation=1,\n",
    "#     num_neighbors_mod=1,\n",
    "#     num_neighbors=500,\n",
    "#     SA_max=10,\n",
    "#     eq=9,\n",
    "#     TN=0.01,\n",
    "#     N= 500_000,\n",
    "#     t=0,\n",
    "#     show=True,\n",
    "#     bar=True\n",
    "# )\n",
    "\n",
    "# # ponto ótimo 426 e 21282\n",
    "\n",
    "# res[6]"
   ]
  },
  {
   "cell_type": "code",
   "execution_count": null,
   "id": "0ba3b1be",
   "metadata": {},
   "outputs": [],
   "source": [
    "# 1, 7, 9\n",
    "# 500_000\n",
    "\n",
    "# 5 - 250 mil - 0.01 - 26975.790188923533\n",
    "# 5 - 250 mil - 0.001 - 27445.463211666\n",
    "# 5 - 500 mil - 0.01 -  28014.50793363138\n",
    "# 8 - 250 mil - 0.01 - 26037.439728639605\n",
    "# 9 - 250 mil - 0.01 - 29519.1201606241\n",
    "# 1 - 250 mil - 0.01 - 24959.676882024232\n",
    "# 1 - 500 mil - 0.01 - 24937.98129793638\n",
    "# 2 - 250 mil - 0.01 - 40098.787619479364\n",
    "# 2 - 250 mil - 0.01 - 28972.254017006708\n",
    "# 3 - 500 mil - 0.01 - 24800.511536552847\n",
    "# 3 - 750 mil - 0.01 - 26029.070807291107\n",
    "# 6 - 250 mil - 0.01 - 24667.184337699124\n",
    "# 6 - 500 mil - 0.01 - 24871.197352076117\n",
    "# 7 - 250 mil - 0.01 - 23231.77226248191\n",
    "# 7 - 500 mil - 0.01 - 21724.412026582584\n",
    "# 8 - 250 mil - 0.01 - 26516.417898300086\n",
    "# 9 - 250 mil - 0.01 - 24346.15246539464\n",
    "# 9 - 500 mil - 0.01 -  23330.304046908404\n"
   ]
  },
  {
   "cell_type": "code",
   "execution_count": null,
   "id": "f0b4ed2c",
   "metadata": {},
   "outputs": [],
   "source": [
    "df_1 = pd.read_csv(\"logs/result-TSP51-1745626478239400111.csv\")\n",
    "df_2 = pd.read_csv(\"logs/result-TSP51-1745627595697870236.csv\")\n",
    "df_3 = pd.read_csv(\"logs/result-TSP51-1745659307840510012.csv\")\n",
    "\n",
    "df_51 = pd.concat([df_1, df_2, df_3])\n",
    "df_51[[\"SA_max\", \"Equação\", \"Número de Vizinhos\", \"Melhor Solução\", \"Média\", \"Desvio Padrão\" ]].sort_values([\"SA_max\"]).to_csv(\"logs/table51.csv\")"
   ]
  },
  {
   "cell_type": "code",
   "execution_count": null,
   "id": "04a2adac",
   "metadata": {},
   "outputs": [],
   "source": [
    "df_51"
   ]
  },
  {
   "cell_type": "code",
   "execution_count": null,
   "id": "a1e58461",
   "metadata": {},
   "outputs": [],
   "source": []
  }
 ],
 "metadata": {
  "kernelspec": {
   "display_name": ".venv",
   "language": "python",
   "name": "python3"
  },
  "language_info": {
   "codemirror_mode": {
    "name": "ipython",
    "version": 3
   },
   "file_extension": ".py",
   "mimetype": "text/x-python",
   "name": "python",
   "nbconvert_exporter": "python",
   "pygments_lexer": "ipython3",
   "version": "3.12.3"
  }
 },
 "nbformat": 4,
 "nbformat_minor": 5
}
