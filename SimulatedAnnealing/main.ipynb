{
 "cells": [
  {
   "cell_type": "code",
   "execution_count": 3,
   "id": "512673da",
   "metadata": {},
   "outputs": [
    {
     "ename": "ModuleNotFoundError",
     "evalue": "No module named 'utils'",
     "output_type": "error",
     "traceback": [
      "\u001b[31m---------------------------------------------------------------------------\u001b[39m",
      "\u001b[31mModuleNotFoundError\u001b[39m                       Traceback (most recent call last)",
      "\u001b[36mCell\u001b[39m\u001b[36m \u001b[39m\u001b[32mIn[3]\u001b[39m\u001b[32m, line 5\u001b[39m\n\u001b[32m      2\u001b[39m \u001b[38;5;28;01mimport\u001b[39;00m\u001b[38;5;250m \u001b[39m\u001b[34;01mnumpy\u001b[39;00m\u001b[38;5;250m \u001b[39m\u001b[38;5;28;01mas\u001b[39;00m\u001b[38;5;250m \u001b[39m\u001b[34;01mnp\u001b[39;00m\n\u001b[32m      3\u001b[39m \u001b[38;5;28;01mimport\u001b[39;00m\u001b[38;5;250m \u001b[39m\u001b[34;01mpandas\u001b[39;00m\u001b[38;5;250m \u001b[39m\u001b[38;5;28;01mas\u001b[39;00m\u001b[38;5;250m \u001b[39m\u001b[34;01mpd\u001b[39;00m\n\u001b[32m----> \u001b[39m\u001b[32m5\u001b[39m \u001b[38;5;28;01mfrom\u001b[39;00m\u001b[38;5;250m \u001b[39m\u001b[34;01mSA\u001b[39;00m\u001b[34;01m.\u001b[39;00m\u001b[34;01msimulatedAnnealing\u001b[39;00m\u001b[38;5;250m \u001b[39m\u001b[38;5;28;01mimport\u001b[39;00m simulatedAnnealing\n\u001b[32m      6\u001b[39m \u001b[38;5;28;01mfrom\u001b[39;00m\u001b[38;5;250m \u001b[39m\u001b[34;01mproblems\u001b[39;00m\u001b[34;01m.\u001b[39;00m\u001b[34;01mTSP\u001b[39;00m\u001b[34;01m.\u001b[39;00m\u001b[34;01mSimulatedAnnelingOperationsTSP\u001b[39;00m\u001b[38;5;250m \u001b[39m\u001b[38;5;28;01mimport\u001b[39;00m SimulatedAnnelingOperationsTSP \u001b[38;5;28;01mas\u001b[39;00m TSP\n\u001b[32m      8\u001b[39m \u001b[38;5;28;01mfrom\u001b[39;00m\u001b[38;5;250m \u001b[39m\u001b[34;01mutils\u001b[39;00m\u001b[34;01m.\u001b[39;00m\u001b[34;01mcalculations\u001b[39;00m\u001b[38;5;250m \u001b[39m\u001b[38;5;28;01mimport\u001b[39;00m Point\n",
      "\u001b[36mFile \u001b[39m\u001b[32m~/Documentos/UDESC/Fase9/IAR/IAR/SimulatedAnnealing/SA/simulatedAnnealing.py:11\u001b[39m\n\u001b[32m      8\u001b[39m \u001b[38;5;28;01mfrom\u001b[39;00m\u001b[38;5;250m \u001b[39m\u001b[34;01mproblems\u001b[39;00m\u001b[34;01m.\u001b[39;00m\u001b[34;01mSAT\u001b[39;00m\u001b[34;01m.\u001b[39;00m\u001b[34;01mClauses\u001b[39;00m\u001b[38;5;250m \u001b[39m\u001b[38;5;28;01mimport\u001b[39;00m Clauses\n\u001b[32m      9\u001b[39m \u001b[38;5;28;01mfrom\u001b[39;00m\u001b[38;5;250m \u001b[39m\u001b[34;01mproblems\u001b[39;00m\u001b[34;01m.\u001b[39;00m\u001b[34;01mSAT\u001b[39;00m\u001b[34;01m.\u001b[39;00m\u001b[34;01mLiterals\u001b[39;00m\u001b[38;5;250m \u001b[39m\u001b[38;5;28;01mimport\u001b[39;00m Literals\n\u001b[32m---> \u001b[39m\u001b[32m11\u001b[39m \u001b[38;5;28;01mfrom\u001b[39;00m\u001b[38;5;250m \u001b[39m\u001b[34;01mutils\u001b[39;00m\u001b[34;01m.\u001b[39;00m\u001b[34;01mcooling\u001b[39;00m\u001b[38;5;250m \u001b[39m\u001b[38;5;28;01mimport\u001b[39;00m cooling_schedule_10\n\u001b[32m     13\u001b[39m \u001b[38;5;28;01mfrom\u001b[39;00m\u001b[38;5;250m \u001b[39m\u001b[34;01minterfaces\u001b[39;00m\u001b[34;01m.\u001b[39;00m\u001b[34;01mISimulatedAnnealingOperations\u001b[39;00m\u001b[38;5;250m \u001b[39m\u001b[38;5;28;01mimport\u001b[39;00m ISimulatedAnnelingOperations \u001b[38;5;28;01mas\u001b[39;00m ISA\n\u001b[32m     15\u001b[39m \u001b[38;5;28;01mdef\u001b[39;00m\u001b[38;5;250m \u001b[39m\u001b[34mgenerate_T0_simulated\u001b[39m(clauses: Clauses, num_literals: \u001b[38;5;28mint\u001b[39m, SA_max: \u001b[38;5;28mint\u001b[39m, T0: \u001b[38;5;28mfloat\u001b[39m, acceptance_rate: \u001b[38;5;28mfloat\u001b[39m) -> \u001b[38;5;28mfloat\u001b[39m:\n",
      "\u001b[31mModuleNotFoundError\u001b[39m: No module named 'utils'"
     ]
    }
   ],
   "source": [
    "import time\n",
    "import numpy as np\n",
    "import pandas as pd\n",
    "\n",
    "from SA.simulatedAnnealing import simulatedAnnealing\n",
    "from problems.TSP.SimulatedAnnelingOperationsTSP import SimulatedAnnelingOperationsTSP as TSP\n",
    "\n",
    "from utils.calculations import Point\n",
    "from utils.manipulationFile import read_txt_file\n",
    "import utils.cooling as alpha\n",
    "from utils.graphics import create_plot, create_box_plots\n",
    "\n",
    "from scripts.tsp import experiment, experiment_one_SA\n",
    "\n"
   ]
  },
  {
   "cell_type": "code",
   "execution_count": 10,
   "id": "2c01e668",
   "metadata": {},
   "outputs": [],
   "source": [
    "PATH: str = \"samples/eil100.txt\"\n",
    "problem: str = \"TSP100\""
   ]
  },
  {
   "cell_type": "markdown",
   "id": "da18cf20",
   "metadata": {},
   "source": [
    "## Teste para o Grafo com 51 cidades\n",
    "\n",
    "+ N = 250_000\n",
    "+ Número de Cidades Criada por criação de vizinho: 1, 3, 5\n",
    "+ Equações Testadas: 5, 8, 9\n",
    "+ TN = 0.01\n",
    "+ SA_Max: 1, 5, 10"
   ]
  },
  {
   "cell_type": "code",
   "execution_count": 3,
   "id": "faf924d5",
   "metadata": {},
   "outputs": [],
   "source": [
    "# df = experiment(\n",
    "#     problem=problem,\n",
    "#     path=PATH,\n",
    "#     num_interation=10,\n",
    "#     num_neighbors_mod_list=[1],\n",
    "#     num_neighbors=500,\n",
    "#     SA_max_list=[1, 5, 10],\n",
    "#     eq_list=[9],\n",
    "#     TN=0.01,\n",
    "#     N=100_000,\n",
    "#     t=False\n",
    "# )\n"
   ]
  },
  {
   "cell_type": "markdown",
   "id": "bc403def",
   "metadata": {},
   "source": [
    "# Teste para o Grafico com 100 cidades\n",
    "\n",
    "+ N = 250_000\n",
    "+ Número de Cidades Criada por criação de vizinho: 1\n",
    "+ Equações Testadas: 1, 7, 9\n",
    "+ TN = 0.01\n",
    "+ SA_Max: 1, 5, 10"
   ]
  },
  {
   "cell_type": "code",
   "execution_count": 15,
   "id": "ec664aad",
   "metadata": {},
   "outputs": [
    {
     "name": "stderr",
     "output_type": "stream",
     "text": [
      "Loading:   0%|          | 0/3 [00:00<?, ?it/s]"
     ]
    },
    {
     "name": "stdout",
     "output_type": "stream",
     "text": [
      "8215.996720362338\n"
     ]
    },
    {
     "name": "stderr",
     "output_type": "stream",
     "text": [
      "Loading:  33%|███▎      | 1/3 [03:58<07:57, 238.64s/it]"
     ]
    },
    {
     "name": "stdout",
     "output_type": "stream",
     "text": [
      "num_elements: 100\n",
      "distance: 28086.574494489592\n",
      "elements: [54, 82, 28, 99, 70, 40, 42, 11, 26, 34, 85, 86, 92, 27, 0, 62, 71, 20, 73, 58, 16, 14, 10, 31, 44, 76, 56, 8, 6, 33, 45, 2, 13, 47, 29, 84, 67, 24, 80, 68, 72, 49, 43, 63, 39, 53, 1, 81, 94, 12, 75, 32, 36, 4, 51, 77, 95, 38, 50, 60, 57, 66, 74, 87, 15, 93, 21, 69, 65, 25, 64, 3, 18, 89, 9, 83, 35, 98, 37, 23, 17, 78, 52, 96, 55, 79, 30, 88, 41, 7, 91, 48, 5, 46, 90, 97, 22, 59, 61, 19]\n",
      "\n",
      "7079.68455404829\n"
     ]
    },
    {
     "name": "stderr",
     "output_type": "stream",
     "text": [
      "Loading:  67%|██████▋   | 2/3 [23:52<13:20, 800.31s/it]"
     ]
    },
    {
     "name": "stdout",
     "output_type": "stream",
     "text": [
      "num_elements: 100\n",
      "distance: 27705.870440887924\n",
      "elements: [15, 69, 65, 25, 64, 3, 96, 55, 74, 5, 62, 0, 92, 57, 60, 80, 24, 50, 86, 8, 6, 56, 22, 31, 10, 58, 35, 98, 37, 23, 17, 93, 21, 87, 78, 83, 9, 71, 20, 73, 46, 27, 66, 68, 72, 81, 94, 12, 75, 32, 36, 4, 51, 77, 95, 38, 29, 28, 45, 13, 47, 99, 70, 40, 2, 42, 19, 76, 97, 90, 16, 14, 44, 59, 61, 34, 85, 26, 11, 54, 82, 33, 84, 67, 49, 43, 1, 63, 39, 53, 88, 30, 79, 41, 7, 91, 48, 89, 18, 52]\n",
      "\n",
      "7941.775883648486\n"
     ]
    },
    {
     "name": "stderr",
     "output_type": "stream",
     "text": [
      "Loading: 100%|██████████| 3/3 [1:03:26<00:00, 1268.96s/it]"
     ]
    },
    {
     "name": "stdout",
     "output_type": "stream",
     "text": [
      "num_elements: 100\n",
      "distance: 23529.36504788375\n",
      "elements: [25, 64, 3, 96, 55, 79, 30, 88, 41, 7, 91, 46, 31, 10, 14, 16, 58, 73, 20, 71, 35, 98, 37, 23, 17, 78, 83, 9, 89, 48, 5, 62, 0, 92, 27, 57, 60, 24, 80, 67, 84, 49, 43, 72, 68, 63, 39, 53, 1, 81, 94, 12, 75, 32, 36, 4, 51, 77, 95, 38, 29, 47, 99, 40, 70, 13, 2, 42, 45, 28, 33, 82, 54, 11, 26, 85, 34, 59, 44, 90, 97, 22, 76, 61, 19, 56, 6, 8, 86, 50, 66, 74, 18, 52, 87, 15, 93, 21, 69, 65]\n",
      "\n"
     ]
    },
    {
     "name": "stderr",
     "output_type": "stream",
     "text": [
      "\n"
     ]
    }
   ],
   "source": [
    "df = experiment(\n",
    "    problem=problem,\n",
    "    path=PATH,\n",
    "    num_interation=10,\n",
    "    num_neighbors_mod_list=[1],\n",
    "    num_neighbors=500,\n",
    "    SA_max_list=[1, 5, 10],\n",
    "    eq_list=[9],\n",
    "    TN=0.01,\n",
    "    N=250_000,\n",
    "    t=False\n",
    ")\n"
   ]
  },
  {
   "cell_type": "code",
   "execution_count": 16,
   "id": "9754c920",
   "metadata": {},
   "outputs": [
    {
     "data": {
      "text/html": [
       "<div>\n",
       "<style scoped>\n",
       "    .dataframe tbody tr th:only-of-type {\n",
       "        vertical-align: middle;\n",
       "    }\n",
       "\n",
       "    .dataframe tbody tr th {\n",
       "        vertical-align: top;\n",
       "    }\n",
       "\n",
       "    .dataframe thead th {\n",
       "        text-align: right;\n",
       "    }\n",
       "</style>\n",
       "<table border=\"1\" class=\"dataframe\">\n",
       "  <thead>\n",
       "    <tr style=\"text-align: right;\">\n",
       "      <th></th>\n",
       "      <th>Problema</th>\n",
       "      <th>SA_max</th>\n",
       "      <th>Equação</th>\n",
       "      <th>Número de Vizinhos</th>\n",
       "      <th>Número de Interações</th>\n",
       "      <th>Temperatura Inicial</th>\n",
       "      <th>Melhor Solução</th>\n",
       "      <th>Média</th>\n",
       "      <th>Desvio Padrão</th>\n",
       "      <th>Tempo (s)</th>\n",
       "      <th>Imagem</th>\n",
       "    </tr>\n",
       "  </thead>\n",
       "  <tbody>\n",
       "    <tr>\n",
       "      <th>0</th>\n",
       "      <td>TSP100</td>\n",
       "      <td>1</td>\n",
       "      <td>9</td>\n",
       "      <td>1</td>\n",
       "      <td>250000</td>\n",
       "      <td>8215.996720</td>\n",
       "      <td>28086.574494</td>\n",
       "      <td>32209.913225</td>\n",
       "      <td>1931.993109</td>\n",
       "      <td>238.641644</td>\n",
       "      <td>con-PTSP100-SA1-EQ9-N250000-174600067140904556...</td>\n",
       "    </tr>\n",
       "    <tr>\n",
       "      <th>1</th>\n",
       "      <td>TSP100</td>\n",
       "      <td>5</td>\n",
       "      <td>9</td>\n",
       "      <td>1</td>\n",
       "      <td>250000</td>\n",
       "      <td>7079.684554</td>\n",
       "      <td>25131.613848</td>\n",
       "      <td>27588.446899</td>\n",
       "      <td>1966.675338</td>\n",
       "      <td>1193.475840</td>\n",
       "      <td>con-PTSP100-SA5-EQ9-N250000-174600186483124439...</td>\n",
       "    </tr>\n",
       "    <tr>\n",
       "      <th>2</th>\n",
       "      <td>TSP100</td>\n",
       "      <td>10</td>\n",
       "      <td>9</td>\n",
       "      <td>1</td>\n",
       "      <td>250000</td>\n",
       "      <td>7941.775884</td>\n",
       "      <td>23529.365048</td>\n",
       "      <td>25462.226676</td>\n",
       "      <td>1069.434021</td>\n",
       "      <td>2374.642808</td>\n",
       "      <td>con-PTSP100-SA10-EQ9-N250000-17460042394891683...</td>\n",
       "    </tr>\n",
       "  </tbody>\n",
       "</table>\n",
       "</div>"
      ],
      "text/plain": [
       "  Problema  SA_max  Equação  Número de Vizinhos  Número de Interações  \\\n",
       "0   TSP100       1        9                   1                250000   \n",
       "1   TSP100       5        9                   1                250000   \n",
       "2   TSP100      10        9                   1                250000   \n",
       "\n",
       "   Temperatura Inicial  Melhor Solução         Média  Desvio Padrão  \\\n",
       "0          8215.996720    28086.574494  32209.913225    1931.993109   \n",
       "1          7079.684554    25131.613848  27588.446899    1966.675338   \n",
       "2          7941.775884    23529.365048  25462.226676    1069.434021   \n",
       "\n",
       "     Tempo (s)                                             Imagem  \n",
       "0   238.641644  con-PTSP100-SA1-EQ9-N250000-174600067140904556...  \n",
       "1  1193.475840  con-PTSP100-SA5-EQ9-N250000-174600186483124439...  \n",
       "2  2374.642808  con-PTSP100-SA10-EQ9-N250000-17460042394891683...  "
      ]
     },
     "execution_count": 16,
     "metadata": {},
     "output_type": "execute_result"
    }
   ],
   "source": [
    "df "
   ]
  },
  {
   "cell_type": "code",
   "execution_count": null,
   "id": "e32ef4b8",
   "metadata": {},
   "outputs": [],
   "source": []
  },
  {
   "cell_type": "code",
   "execution_count": 6,
   "id": "7739a23a",
   "metadata": {},
   "outputs": [
    {
     "data": {
      "text/plain": [
       "2"
      ]
     },
     "execution_count": 6,
     "metadata": {},
     "output_type": "execute_result"
    }
   ],
   "source": [
    "id = df[\"Melhor Solução\"].idxmin()\n",
    "\n",
    "id"
   ]
  },
  {
   "cell_type": "code",
   "execution_count": 16,
   "id": "8edc3cda",
   "metadata": {},
   "outputs": [
    {
     "data": {
      "text/html": [
       "<div>\n",
       "<style scoped>\n",
       "    .dataframe tbody tr th:only-of-type {\n",
       "        vertical-align: middle;\n",
       "    }\n",
       "\n",
       "    .dataframe tbody tr th {\n",
       "        vertical-align: top;\n",
       "    }\n",
       "\n",
       "    .dataframe thead th {\n",
       "        text-align: right;\n",
       "    }\n",
       "</style>\n",
       "<table border=\"1\" class=\"dataframe\">\n",
       "  <thead>\n",
       "    <tr style=\"text-align: right;\">\n",
       "      <th></th>\n",
       "      <th>SA_max</th>\n",
       "      <th>Equação</th>\n",
       "      <th>Número de Vizinhos</th>\n",
       "      <th>Melhor Solução</th>\n",
       "      <th>Média</th>\n",
       "      <th>Desvio Padrão</th>\n",
       "    </tr>\n",
       "  </thead>\n",
       "  <tbody>\n",
       "    <tr>\n",
       "      <th>0</th>\n",
       "      <td>1</td>\n",
       "      <td>9</td>\n",
       "      <td>1</td>\n",
       "      <td>26613.589834</td>\n",
       "      <td>30762.265585</td>\n",
       "      <td>2784.354045</td>\n",
       "    </tr>\n",
       "    <tr>\n",
       "      <th>1</th>\n",
       "      <td>5</td>\n",
       "      <td>9</td>\n",
       "      <td>1</td>\n",
       "      <td>24159.987833</td>\n",
       "      <td>25538.975214</td>\n",
       "      <td>1461.135598</td>\n",
       "    </tr>\n",
       "    <tr>\n",
       "      <th>2</th>\n",
       "      <td>10</td>\n",
       "      <td>9</td>\n",
       "      <td>1</td>\n",
       "      <td>24396.027908</td>\n",
       "      <td>25845.430204</td>\n",
       "      <td>1006.608982</td>\n",
       "    </tr>\n",
       "  </tbody>\n",
       "</table>\n",
       "</div>"
      ],
      "text/plain": [
       "   SA_max  Equação  Número de Vizinhos  Melhor Solução         Média  \\\n",
       "0       1        9                   1    26613.589834  30762.265585   \n",
       "1       5        9                   1    24159.987833  25538.975214   \n",
       "2      10        9                   1    24396.027908  25845.430204   \n",
       "\n",
       "   Desvio Padrão  \n",
       "0    2784.354045  \n",
       "1    1461.135598  \n",
       "2    1006.608982  "
      ]
     },
     "execution_count": 16,
     "metadata": {},
     "output_type": "execute_result"
    }
   ],
   "source": [
    "df_media = df[[\"SA_max\", \"Equação\", \"Número de Vizinhos\", \"Melhor Solução\", \"Média\", \"Desvio Padrão\" ]].sort_values([\"SA_max\"])\n",
    "df_media"
   ]
  },
  {
   "cell_type": "code",
   "execution_count": null,
   "id": "0a9777b3",
   "metadata": {},
   "outputs": [
    {
     "name": "stdout",
     "output_type": "stream",
     "text": [
      "9824.356788322068\n"
     ]
    },
    {
     "name": "stderr",
     "output_type": "stream",
     "text": [
      "Loading: 100%|██████████| 500000/500000 [11:06<00:00, 750.72it/s]\n"
     ]
    },
    {
     "data": {
      "image/png": "[encoded data removed]",
      "text/plain": [
       "<Figure size 640x480 with 2 Axes>"
      ]
     },
     "metadata": {},
     "output_type": "display_data"
    },
    {
     "name": "stdout",
     "output_type": "stream",
     "text": [
      "num_elements: 100\n",
      "distance: 24679.13367295868\n",
      "elements: [38, 47, 99, 40, 70, 13, 2, 42, 45, 28, 29, 95, 77, 51, 4, 36, 32, 75, 12, 94, 81, 49, 72, 43, 1, 53, 39, 63, 68, 60, 50, 86, 56, 8, 6, 33, 82, 54, 11, 19, 26, 85, 34, 61, 59, 76, 57, 92, 27, 7, 91, 0, 46, 90, 97, 22, 44, 31, 62, 5, 48, 3, 64, 25, 65, 69, 21, 15, 87, 93, 17, 23, 37, 98, 35, 58, 16, 14, 10, 73, 20, 71, 83, 9, 89, 78, 52, 18, 74, 96, 55, 79, 30, 88, 41, 66, 24, 80, 67, 84]\n",
      "\n"
     ]
    },
    {
     "data": {
      "text/plain": [
       "24679.13367295868"
      ]
     },
     "execution_count": 49,
     "metadata": {},
     "output_type": "execute_result"
    }
   ],
   "source": [
    "# res = experiment_one_SA(\n",
    "#     problem=\"TSP100\",\n",
    "#     path=\"samples/eil100.txt\",\n",
    "#     num_interation=1,\n",
    "#     num_neighbors_mod=1,\n",
    "#     num_neighbors=500,\n",
    "#     SA_max=10,\n",
    "#     eq=1,\n",
    "#     TN=0.01,\n",
    "#     N=500_000,\n",
    "#     t=0,\n",
    "#     show=True,\n",
    "#     bar=True\n",
    "# )\n",
    "\n",
    "# ponto ótimo 426 e 21282\n",
    "\n",
    "# res[6]"
   ]
  },
  {
   "cell_type": "code",
   "execution_count": 9,
   "id": "0ba3b1be",
   "metadata": {},
   "outputs": [],
   "source": [
    "# 1, 7, 9\n",
    "# 500_000\n",
    "\n",
    "# 5 - 250 mil - 0.01 - 26975.790188923533\n",
    "# 5 - 250 mil - 0.001 - 27445.463211666\n",
    "# 5 - 500 mil - 0.01 -  28014.50793363138\n",
    "# 8 - 250 mil - 0.01 - 26037.439728639605\n",
    "# 9 - 250 mil - 0.01 - 29519.1201606241\n",
    "# 1 - 250 mil - 0.01 - 24959.676882024232\n",
    "# 1 - 500 mil - 0.01 - 24937.98129793638\n",
    "# 2 - 250 mil - 0.01 - 40098.787619479364\n",
    "# 2 - 250 mil - 0.01 - 28972.254017006708\n",
    "# 3 - 500 mil - 0.01 - 24800.511536552847\n",
    "# 3 - 750 mil - 0.01 - 26029.070807291107\n",
    "# 6 - 250 mil - 0.01 - 24667.184337699124\n",
    "# 6 - 500 mil - 0.01 - 24871.197352076117\n",
    "# 7 - 250 mil - 0.01 - 23231.77226248191\n",
    "# 7 - 500 mil - 0.01 - 21724.412026582584\n",
    "# 8 - 250 mil - 0.01 - 26516.417898300086\n",
    "# 9 - 250 mil - 0.01 - 24346.15246539464\n",
    "# 9 - 500 mil - 0.01 -  23330.304046908404\n"
   ]
  },
  {
   "cell_type": "code",
   "execution_count": 17,
   "id": "f0b4ed2c",
   "metadata": {},
   "outputs": [],
   "source": [
    "df_1 = pd.read_csv(\"logs/result-TSP100-1745983588750105933.csv\")\n",
    "df_2 = pd.read_csv(\"logs/result-TSP100-1746000343668899951.csv\")\n",
    "df_3 = pd.read_csv(\"logs/result-TSP100-1746004240208116648.csv\")\n",
    "\n",
    "df_51 = pd.concat([df_1, df_2, df_3])\n",
    "df_51[[\"SA_max\", \"Equação\", \"Melhor Solução\", \"Média\", \"Desvio Padrão\", \"Tempo (s)\" ]].sort_values([\"SA_max\"]).to_csv(\"logs/table100.csv\")"
   ]
  },
  {
   "cell_type": "code",
   "execution_count": 3,
   "id": "04a2adac",
   "metadata": {},
   "outputs": [
    {
     "data": {
      "text/plain": [
       "np.float64(440.7753581916181)"
      ]
     },
     "execution_count": 3,
     "metadata": {},
     "output_type": "execute_result"
    }
   ],
   "source": [
    "df_51[\"Melhor Solução\"].min()"
   ]
  },
  {
   "cell_type": "code",
   "execution_count": null,
   "id": "a1e58461",
   "metadata": {},
   "outputs": [],
   "source": []
  }
 ],
 "metadata": {
  "kernelspec": {
   "display_name": ".venv",
   "language": "python",
   "name": "python3"
  },
  "language_info": {
   "codemirror_mode": {
    "name": "ipython",
    "version": 3
   },
   "file_extension": ".py",
   "mimetype": "text/x-python",
   "name": "python",
   "nbconvert_exporter": "python",
   "pygments_lexer": "ipython3",
   "version": "3.12.3"
  }
 },
 "nbformat": 4,
 "nbformat_minor": 5
}
